{
 "cells": [
  {
   "cell_type": "code",
   "execution_count": null,
   "id": "ce5f4748-d450-44f0-b0cb-ea29ef3350f6",
   "metadata": {},
   "outputs": [],
   "source": [
    "import pathlib\n",
    "\n",
    "import yaml\n",
    "import pandas as pd"
   ]
  },
  {
   "cell_type": "code",
   "execution_count": null,
   "id": "23d293fd-4983-459f-bc1f-09c0c1112dc3",
   "metadata": {},
   "outputs": [],
   "source": [
    "data_dir = pathlib.Path.cwd().parent"
   ]
  },
  {
   "cell_type": "markdown",
   "id": "bbf71cfd-db43-482c-90a9-fad2becb2577",
   "metadata": {},
   "source": [
    "Parameters are read"
   ]
  },
  {
   "cell_type": "code",
   "execution_count": null,
   "id": "a5fcf0a5-860f-4a6e-841e-66f9a7f895e5",
   "metadata": {},
   "outputs": [],
   "source": [
    "with open(data_dir / 'parameters.yaml') as yaml_data:\n",
    "\n",
    "    # the parameters file is read to memory\n",
    "    parameters = yaml.load(yaml_data, Loader=yaml.FullLoader)\n",
    "\n",
    "parameters.keys()"
   ]
  },
  {
   "cell_type": "markdown",
   "id": "3b6e6e38-1b0a-4286-8978-902677d1c739",
   "metadata": {},
   "source": [
    "# Projects"
   ]
  },
  {
   "cell_type": "code",
   "execution_count": null,
   "id": "8240e911-0c75-40cc-abe5-f3d5ac6a9976",
   "metadata": {},
   "outputs": [],
   "source": [
    "projects_df = pd.read_feather(data_dir / (parameters['projects']['name'] + '.feather'))\n",
    "projects_df.shape"
   ]
  },
  {
   "cell_type": "markdown",
   "id": "0a7458fd-fa67-4a85-849d-0fa2849c88d1",
   "metadata": {},
   "source": [
    "The size in megabytes of each column is shown"
   ]
  },
  {
   "cell_type": "code",
   "execution_count": null,
   "id": "32ffb1d5-2aa7-4771-9e01-64d4e5a6113e",
   "metadata": {},
   "outputs": [],
   "source": [
    "# projects_df.memory_usage() / 1_024**2"
   ]
  },
  {
   "cell_type": "code",
   "execution_count": null,
   "id": "c3573f73-bade-4b08-ae8c-3d910e9b9b06",
   "metadata": {},
   "outputs": [],
   "source": [
    "projects_df.tail()"
   ]
  },
  {
   "cell_type": "markdown",
   "id": "bb6836d0-24fa-4c72-a5b0-41d36a10d338",
   "metadata": {},
   "source": [
    "# Abstracts"
   ]
  },
  {
   "cell_type": "code",
   "execution_count": null,
   "id": "0e5a5a76-9894-48ab-9306-4ac66e6d1cc2",
   "metadata": {},
   "outputs": [],
   "source": [
    "abstracts_df = pd.read_pickle(data_dir / (parameters['abstracts']['name'] + '.pickle'))\n",
    "abstracts_df.shape"
   ]
  },
  {
   "cell_type": "markdown",
   "id": "a6341dd5-e3b9-4a17-ab79-026f458ff71d",
   "metadata": {},
   "source": [
    "The size in megabytes of each column is shown"
   ]
  },
  {
   "cell_type": "code",
   "execution_count": null,
   "id": "78f66942-dadb-455a-bb90-a6ad443d8460",
   "metadata": {},
   "outputs": [],
   "source": [
    "# abstracts_df.memory_usage() / 1_024**2"
   ]
  },
  {
   "cell_type": "code",
   "execution_count": null,
   "id": "51a542a4-7cde-4e61-807e-fdaaa134ec02",
   "metadata": {},
   "outputs": [],
   "source": [
    "abstracts_df['ABSTRACT_TEXT'].loc[0]"
   ]
  },
  {
   "cell_type": "code",
   "execution_count": null,
   "id": "b4b76a73-494c-4b48-b9fd-64cc14a05c6f",
   "metadata": {},
   "outputs": [],
   "source": [
    "projects_abstracts_df = projects_df.merge(abstracts_df, how='outer', on='APPLICATION_ID', indicator=True)\n",
    "projects_abstracts_df.head()"
   ]
  },
  {
   "cell_type": "code",
   "execution_count": null,
   "id": "10f48ce5-7623-4345-b47b-57000732a012",
   "metadata": {},
   "outputs": [],
   "source": [
    "projects_abstracts_df.head()"
   ]
  },
  {
   "cell_type": "markdown",
   "id": "f4d9fcc3-3f45-4001-8cca-5abd431e2af1",
   "metadata": {},
   "source": [
    "There are projects now showing in both tables"
   ]
  },
  {
   "cell_type": "code",
   "execution_count": null,
   "id": "55bd923f-79a7-4e06-b4df-df67af5fddc2",
   "metadata": {},
   "outputs": [],
   "source": [
    "(projects_abstracts_df['_merge'] != 'both').sum()"
   ]
  },
  {
   "cell_type": "markdown",
   "id": "36781992-1874-4860-9d5c-1c61f7310db6",
   "metadata": {},
   "source": [
    "# Publications"
   ]
  },
  {
   "cell_type": "code",
   "execution_count": null,
   "id": "6c3d41b1-cf0d-4a03-becd-d0243e58faf1",
   "metadata": {},
   "outputs": [],
   "source": [
    "del abstracts_df, projects_abstracts_df"
   ]
  },
  {
   "cell_type": "code",
   "execution_count": null,
   "id": "26e31e2e-2f34-45a2-9917-bdfb4c4c535b",
   "metadata": {},
   "outputs": [],
   "source": [
    "publications_df = pd.read_feather(data_dir / (parameters['publications']['name'] + '.feather'))\n",
    "publications_df.shape"
   ]
  },
  {
   "cell_type": "code",
   "execution_count": null,
   "id": "b79810d5-cbc3-483d-bbc6-f4a8ffaec01f",
   "metadata": {},
   "outputs": [],
   "source": [
    "publications_df.head()"
   ]
  },
  {
   "cell_type": "markdown",
   "id": "5d768e4e-64ad-4f6a-bcb6-8178f7b8a92c",
   "metadata": {},
   "source": [
    "The size in megabytes of each column is shown"
   ]
  },
  {
   "cell_type": "code",
   "execution_count": null,
   "id": "1cc48899-780a-49f0-ba0d-b51ca34636c5",
   "metadata": {},
   "outputs": [],
   "source": [
    "# publications_df.memory_usage() / 1_024**2"
   ]
  },
  {
   "cell_type": "markdown",
   "id": "c3960d23-9404-4ff5-a3bf-6ab26cc8ff0e",
   "metadata": {},
   "source": [
    "# Links"
   ]
  },
  {
   "cell_type": "code",
   "execution_count": null,
   "id": "e93f5508-360d-42a0-b67f-a3fd4b134d62",
   "metadata": {},
   "outputs": [],
   "source": [
    "links_df = pd.read_feather(data_dir / (parameters['link tables']['name'] + '.feather'))\n",
    "links_df.shape"
   ]
  },
  {
   "cell_type": "code",
   "execution_count": null,
   "id": "66c75d63-74a3-4739-a151-c95065ad6859",
   "metadata": {},
   "outputs": [],
   "source": [
    "links_df.head()"
   ]
  },
  {
   "cell_type": "code",
   "execution_count": null,
   "id": "827dc0f5-ccd6-4756-880c-57c3bd58f719",
   "metadata": {},
   "outputs": [],
   "source": [
    "publications_links_df = publications_df.merge(links_df, how='outer', on='PMID', indicator=True)\n",
    "publications_links_df.shape"
   ]
  },
  {
   "cell_type": "code",
   "execution_count": null,
   "id": "ee528a7a-189a-4dd0-9c43-1aae45f01c1c",
   "metadata": {},
   "outputs": [],
   "source": [
    "publications_links_df.head()"
   ]
  },
  {
   "cell_type": "code",
   "execution_count": null,
   "id": "cf14ddb7-690c-4c47-954f-a616780d883e",
   "metadata": {},
   "outputs": [],
   "source": [
    "n_orphan_publications = (publications_links_df._merge != \"both\").sum()\n",
    "print(f'# publications with not linked *data*: {n_orphan_publications}')"
   ]
  },
  {
   "cell_type": "markdown",
   "id": "30484c3d-ed3d-410c-9193-fe0fb691b5b1",
   "metadata": {},
   "source": [
    "The code below yields an out-of-memory error."
   ]
  },
  {
   "cell_type": "code",
   "execution_count": null,
   "id": "77650488-3e67-47da-b78e-4aa81960beaf",
   "metadata": {},
   "outputs": [],
   "source": [
    "# projects_publications_links_df = projects_df.merge(publications_links_df, how='outer', left_on='CORE_PROJECT_NUM', right_on='PROJECT_NUMBER', indicator='_final_merge')\n",
    "# projects_publications_links_df.shape"
   ]
  },
  {
   "cell_type": "code",
   "execution_count": null,
   "id": "5b23a509-3f6c-4c57-b448-c90c1316d6d4",
   "metadata": {},
   "outputs": [],
   "source": [
    "common_keys = set(projects_df['CORE_PROJECT_NUM']) & set(publications_links_df['PROJECT_NUMBER'])\n",
    "len(common_keys)"
   ]
  },
  {
   "cell_type": "markdown",
   "id": "0068b43a-4907-47bd-9dce-d90013818ac7",
   "metadata": {},
   "source": [
    "# Patents"
   ]
  },
  {
   "cell_type": "code",
   "execution_count": null,
   "id": "cb6e3f26-da5e-4916-9c30-332bc999501d",
   "metadata": {},
   "outputs": [],
   "source": [
    "del publications_df, publications_links_df"
   ]
  },
  {
   "cell_type": "code",
   "execution_count": null,
   "id": "dc11567e-ce96-470e-a295-db8885e3de83",
   "metadata": {},
   "outputs": [],
   "source": [
    "patents_df = pd.read_feather(data_dir / (parameters['patents']['name'] + '.feather'))\n",
    "patents_df.shape"
   ]
  },
  {
   "cell_type": "code",
   "execution_count": null,
   "id": "d23f7f0e-0d09-4e39-9788-27af901b15e4",
   "metadata": {},
   "outputs": [],
   "source": [
    "patents_df.head()"
   ]
  },
  {
   "cell_type": "code",
   "execution_count": null,
   "id": "d30b6aa7-76a3-433e-a04a-02e2ddc880fc",
   "metadata": {},
   "outputs": [],
   "source": [
    "patents_projects_df = patents_df.merge(projects_df, how='outer', left_on='PROJECT_ID', right_on='CORE_PROJECT_NUM', indicator=True)\n",
    "patents_projects_df.shape"
   ]
  },
  {
   "cell_type": "markdown",
   "id": "e89b786b-fcce-4abd-a146-b0dfd5002441",
   "metadata": {},
   "source": [
    "There are projects now showing in both tables"
   ]
  },
  {
   "cell_type": "code",
   "execution_count": null,
   "id": "5f847c1d-9f2e-4af2-8ab6-01a60836a083",
   "metadata": {},
   "outputs": [],
   "source": [
    "(patents_projects_df['_merge'] != 'both').sum()"
   ]
  }
 ],
 "metadata": {
  "kernelspec": {
   "display_name": "Python 3",
   "language": "python",
   "name": "python3"
  },
  "language_info": {
   "codemirror_mode": {
    "name": "ipython",
    "version": 3
   },
   "file_extension": ".py",
   "mimetype": "text/x-python",
   "name": "python",
   "nbconvert_exporter": "python",
   "pygments_lexer": "ipython3",
   "version": "3.9.5"
  }
 },
 "nbformat": 4,
 "nbformat_minor": 5
}
